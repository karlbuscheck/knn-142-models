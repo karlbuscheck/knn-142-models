{
 "cells": [
  {
   "cell_type": "markdown",
   "id": "ef914282-b375-4427-8164-7b80aaf32ab2",
   "metadata": {},
   "source": [
    "# Tuning kNN with 142 models -- A Deep Dive into Learning by Proximity"
   ]
  },
  {
   "cell_type": "markdown",
   "id": "e0ccd206-b237-4a57-9ffb-7e21de51bc8a",
   "metadata": {},
   "source": [
    "In this notebook, we'll explore **k-Nearest Neighbors** or, kNN for short, an intuitive and powerful machine learning algorithm that makes predictions based on proximity. Here's a high-level explanation of *how* this deceptively simple ML model works:\n",
    "\n",
    "**kNN** looks at the label of the most similar observation to predict what label should be attached to a new observation. But we don't have to tell the model to look at just 1 neighbor -- we can ask it to look at 2 neighbors, or 3 neighbors, or way more than that. So, the question becomes: **What's the optimal number of neighbors to ask?** And that's how we ended up building not 1 model or, 2 or 3 -- but **142**.\n",
    "\n",
    "Before we dive in, here's a quick snapshot of the trail we'll be following:\n",
    "\n",
    "**The Pipeline**:\n",
    "\n",
    "- Load and explore a popular dataset from **scikit-learn**\n",
    "- Visualize the dataset: Plot first, model second\n",
    "- Split the training and test sets\n",
    "- Build the kNN Classifier and fit the model\n",
    "- Predict on the test set and evaluate the accuracy\n",
    "- One more visualization"
   ]
  },
  {
   "cell_type": "markdown",
   "id": "1218df4e-2431-41a3-a3d4-f32b7d5d565e",
   "metadata": {},
   "source": [
    "## Load and explore a popular dataset from scikit-learn"
   ]
  },
  {
   "cell_type": "markdown",
   "id": "4adf3c21-12c0-414b-ada5-f9c2072aaa52",
   "metadata": {},
   "source": [
    "While **scikit-learn** is best known as a machine learning library, it also offers [toy datasets](https://scikit-learn.org/stable/datasets/toy_dataset.html) that don't require any downloads and can be easily loaded into any Jupyter Notebook. For this deep dive, we'll pick a fun one -- **Dataset 8.1.5**, or, the Wine Recognition Dataset."
   ]
  },
  {
   "cell_type": "code",
   "execution_count": 4,
   "id": "d7b4ba9e-ff0e-415b-855b-12527faeba2a",
   "metadata": {},
   "outputs": [],
   "source": [
    "# Import the Wine Recognition Dataset from sklearn.datasets\n",
    "from sklearn.datasets import load_wine\n",
    "\n",
    "# Save the dataset into a variable\n",
    "wine_data = load_wine()"
   ]
  },
  {
   "cell_type": "markdown",
   "id": "f7ddb464-a53a-4008-aa47-ce7ac5545f6f",
   "metadata": {},
   "source": [
    "Now that we've loaded the dataset let's take a look at what we are working with."
   ]
  },
  {
   "cell_type": "code",
   "execution_count": 7,
   "id": "5401dd59-7667-43b5-a2c8-cd5d8a64c720",
   "metadata": {},
   "outputs": [
    {
     "data": {
      "text/plain": [
       "{'data': array([[1.423e+01, 1.710e+00, 2.430e+00, ..., 1.040e+00, 3.920e+00,\n",
       "         1.065e+03],\n",
       "        [1.320e+01, 1.780e+00, 2.140e+00, ..., 1.050e+00, 3.400e+00,\n",
       "         1.050e+03],\n",
       "        [1.316e+01, 2.360e+00, 2.670e+00, ..., 1.030e+00, 3.170e+00,\n",
       "         1.185e+03],\n",
       "        ...,\n",
       "        [1.327e+01, 4.280e+00, 2.260e+00, ..., 5.900e-01, 1.560e+00,\n",
       "         8.350e+02],\n",
       "        [1.317e+01, 2.590e+00, 2.370e+00, ..., 6.000e-01, 1.620e+00,\n",
       "         8.400e+02],\n",
       "        [1.413e+01, 4.100e+00, 2.740e+00, ..., 6.100e-01, 1.600e+00,\n",
       "         5.600e+02]]),\n",
       " 'target': array([0, 0, 0, 0, 0, 0, 0, 0, 0, 0, 0, 0, 0, 0, 0, 0, 0, 0, 0, 0, 0, 0,\n",
       "        0, 0, 0, 0, 0, 0, 0, 0, 0, 0, 0, 0, 0, 0, 0, 0, 0, 0, 0, 0, 0, 0,\n",
       "        0, 0, 0, 0, 0, 0, 0, 0, 0, 0, 0, 0, 0, 0, 0, 1, 1, 1, 1, 1, 1, 1,\n",
       "        1, 1, 1, 1, 1, 1, 1, 1, 1, 1, 1, 1, 1, 1, 1, 1, 1, 1, 1, 1, 1, 1,\n",
       "        1, 1, 1, 1, 1, 1, 1, 1, 1, 1, 1, 1, 1, 1, 1, 1, 1, 1, 1, 1, 1, 1,\n",
       "        1, 1, 1, 1, 1, 1, 1, 1, 1, 1, 1, 1, 1, 1, 1, 1, 1, 1, 1, 1, 2, 2,\n",
       "        2, 2, 2, 2, 2, 2, 2, 2, 2, 2, 2, 2, 2, 2, 2, 2, 2, 2, 2, 2, 2, 2,\n",
       "        2, 2, 2, 2, 2, 2, 2, 2, 2, 2, 2, 2, 2, 2, 2, 2, 2, 2, 2, 2, 2, 2,\n",
       "        2, 2]),\n",
       " 'frame': None,\n",
       " 'target_names': array(['class_0', 'class_1', 'class_2'], dtype='<U7'),\n",
       " 'DESCR': '.. _wine_dataset:\\n\\nWine recognition dataset\\n------------------------\\n\\n**Data Set Characteristics:**\\n\\n:Number of Instances: 178\\n:Number of Attributes: 13 numeric, predictive attributes and the class\\n:Attribute Information:\\n    - Alcohol\\n    - Malic acid\\n    - Ash\\n    - Alcalinity of ash\\n    - Magnesium\\n    - Total phenols\\n    - Flavanoids\\n    - Nonflavanoid phenols\\n    - Proanthocyanins\\n    - Color intensity\\n    - Hue\\n    - OD280/OD315 of diluted wines\\n    - Proline\\n    - class:\\n        - class_0\\n        - class_1\\n        - class_2\\n\\n:Summary Statistics:\\n\\n============================= ==== ===== ======= =====\\n                                Min   Max   Mean     SD\\n============================= ==== ===== ======= =====\\nAlcohol:                      11.0  14.8    13.0   0.8\\nMalic Acid:                   0.74  5.80    2.34  1.12\\nAsh:                          1.36  3.23    2.36  0.27\\nAlcalinity of Ash:            10.6  30.0    19.5   3.3\\nMagnesium:                    70.0 162.0    99.7  14.3\\nTotal Phenols:                0.98  3.88    2.29  0.63\\nFlavanoids:                   0.34  5.08    2.03  1.00\\nNonflavanoid Phenols:         0.13  0.66    0.36  0.12\\nProanthocyanins:              0.41  3.58    1.59  0.57\\nColour Intensity:              1.3  13.0     5.1   2.3\\nHue:                          0.48  1.71    0.96  0.23\\nOD280/OD315 of diluted wines: 1.27  4.00    2.61  0.71\\nProline:                       278  1680     746   315\\n============================= ==== ===== ======= =====\\n\\n:Missing Attribute Values: None\\n:Class Distribution: class_0 (59), class_1 (71), class_2 (48)\\n:Creator: R.A. Fisher\\n:Donor: Michael Marshall (MARSHALL%PLU@io.arc.nasa.gov)\\n:Date: July, 1988\\n\\nThis is a copy of UCI ML Wine recognition datasets.\\nhttps://archive.ics.uci.edu/ml/machine-learning-databases/wine/wine.data\\n\\nThe data is the results of a chemical analysis of wines grown in the same\\nregion in Italy by three different cultivators. There are thirteen different\\nmeasurements taken for different constituents found in the three types of\\nwine.\\n\\nOriginal Owners:\\n\\nForina, M. et al, PARVUS -\\nAn Extendible Package for Data Exploration, Classification and Correlation.\\nInstitute of Pharmaceutical and Food Analysis and Technologies,\\nVia Brigata Salerno, 16147 Genoa, Italy.\\n\\nCitation:\\n\\nLichman, M. (2013). UCI Machine Learning Repository\\n[https://archive.ics.uci.edu/ml]. Irvine, CA: University of California,\\nSchool of Information and Computer Science.\\n\\n.. dropdown:: References\\n\\n    (1) S. Aeberhard, D. Coomans and O. de Vel,\\n    Comparison of Classifiers in High Dimensional Settings,\\n    Tech. Rep. no. 92-02, (1992), Dept. of Computer Science and Dept. of\\n    Mathematics and Statistics, James Cook University of North Queensland.\\n    (Also submitted to Technometrics).\\n\\n    The data was used with many others for comparing various\\n    classifiers. The classes are separable, though only RDA\\n    has achieved 100% correct classification.\\n    (RDA : 100%, QDA 99.4%, LDA 98.9%, 1NN 96.1% (z-transformed data))\\n    (All results using the leave-one-out technique)\\n\\n    (2) S. Aeberhard, D. Coomans and O. de Vel,\\n    \"THE CLASSIFICATION PERFORMANCE OF RDA\"\\n    Tech. Rep. no. 92-01, (1992), Dept. of Computer Science and Dept. of\\n    Mathematics and Statistics, James Cook University of North Queensland.\\n    (Also submitted to Journal of Chemometrics).\\n',\n",
       " 'feature_names': ['alcohol',\n",
       "  'malic_acid',\n",
       "  'ash',\n",
       "  'alcalinity_of_ash',\n",
       "  'magnesium',\n",
       "  'total_phenols',\n",
       "  'flavanoids',\n",
       "  'nonflavanoid_phenols',\n",
       "  'proanthocyanins',\n",
       "  'color_intensity',\n",
       "  'hue',\n",
       "  'od280/od315_of_diluted_wines',\n",
       "  'proline']}"
      ]
     },
     "execution_count": 7,
     "metadata": {},
     "output_type": "execute_result"
    }
   ],
   "source": [
    "#Display the Wine Recognition Dataset\n",
    "wine_data"
   ]
  },
  {
   "cell_type": "markdown",
   "id": "4de2975c-a4da-4112-abf1-2aac829f11ec",
   "metadata": {},
   "source": [
    "The immediate observation is that this is most certainly *not* a DataFrame."
   ]
  },
  {
   "cell_type": "code",
   "execution_count": 8,
   "id": "407676d9-f5cf-4512-bcb7-4eb12b3aa59b",
   "metadata": {},
   "outputs": [
    {
     "data": {
      "text/plain": [
       "sklearn.utils._bunch.Bunch"
      ]
     },
     "execution_count": 8,
     "metadata": {},
     "output_type": "execute_result"
    }
   ],
   "source": [
    "# Check the type\n",
    "type(wine_data)"
   ]
  },
  {
   "cell_type": "markdown",
   "id": "cf97a0f9-3f9d-419f-856c-5f536c99e3b0",
   "metadata": {},
   "source": [
    "What we're working with is a **Bunch** -- effectively *a dictionary on steroids*. Those curly brackets were a hint. \n",
    "\n",
    "This Bunch object can be accessed with keys with either square brackets (`bunch['data']`) or dot notation (`bunch.data`). And, as we're about to see, comes preloaded with convenient fields. So, now back to those keys."
   ]
  },
  {
   "cell_type": "code",
   "execution_count": 9,
   "id": "dcbde13d-f1c5-4c52-9a98-dfaeb7013e86",
   "metadata": {},
   "outputs": [
    {
     "name": "stdout",
     "output_type": "stream",
     "text": [
      "Keys of wine_data:\n",
      " dict_keys(['data', 'target', 'frame', 'target_names', 'DESCR', 'feature_names'])\n"
     ]
    }
   ],
   "source": [
    "# Let's take a look at the keys of the dataset using .keys()\n",
    "print(\"Keys of wine_data:\\n\", wine_data.keys())"
   ]
  },
  {
   "cell_type": "markdown",
   "id": "ca49f420-08ce-4cfe-b0b5-00efa12eb552",
   "metadata": {},
   "source": [
    "Here's the list in a cleaner output:\n",
    "- `data` - feature matrix (X)\n",
    "- `target`-labels (y)\n",
    "- `frame` - optional pandas DataFrame version\n",
    "- `target_names`- label names, like ‘class_0’ and ‘class_0’\n",
    "- `DESCR` - description of the dataset\n",
    "- `feature_names` - feature names (as we'll see in detail below)\n",
    "\n",
    "We'll begin by exploring the `DESC` key."
   ]
  },
  {
   "cell_type": "code",
   "execution_count": 23,
   "id": "3b80022a-e811-4f36-8732-ab319f61be16",
   "metadata": {},
   "outputs": [
    {
     "name": "stdout",
     "output_type": "stream",
     "text": [
      ".. _wine_dataset:\n",
      "\n",
      "Wine recognition dataset\n",
      "------------------------\n",
      "\n",
      "**Data Set Characteristics:**\n",
      "\n",
      ":Number of Instances: 178\n",
      ":Number of Attributes: 13 numeric, predictive attributes and the class\n",
      ":Attribute Information:\n",
      "    - Alcohol\n",
      "    - Malic acid\n",
      "    - Ash\n",
      "    - Alcalinity of ash\n",
      "    - Magnesium\n",
      "    - Total phenols\n",
      "    - Flavanoids\n",
      "    - Nonflavanoid phenols\n",
      "    - Proanthocyanins\n",
      "    - Color intensity\n",
      "    - Hue\n",
      "    - OD280/OD315 of diluted wines\n",
      "    - Proline\n",
      "    - class:\n",
      "        - class_0\n",
      "        - class_1\n",
      "        - class_2\n",
      "\n",
      ":Summary Statistics:\n",
      "\n",
      "============================= ==== ===== ======= =====\n",
      "                                Min   Max   Mean     SD\n",
      "============================= ==== ===== ======= =====\n",
      "Alcohol:                      11.0  14.8    13.0   0.8\n",
      "Malic Acid:                   0.74  5.80    2.34  1.12\n",
      "Ash:                          1.36  3.23    2.36  0.27\n",
      "Alcalinity of Ash:            10.6  30.0    19.5   3.3\n",
      "Magnesium:                    70.0 162.0    99.7  14.3\n",
      "Total Phenols:                0.98  3.88    2.29  0.63\n",
      "Flavanoids:                   0.34  5.08    2.03  1.00\n",
      "Nonflavanoid Phenols:         0.13  0.66    0.36  0.12\n",
      "Proanthocyanins:              0.41  3.58    1.59  0.57\n",
      "Colour Intensity:              1.3  13.0     5.1   2.3\n",
      "Hue:                          0.48  1.71    0.96  0.23\n",
      "OD280/OD315 of diluted wines: 1.27  4.00    2.61  0.71\n",
      "Proline:                       278  1680     746   315\n",
      "============================= ==== ===== ======= =====\n",
      "\n",
      ":Missing Attribute Values: None\n",
      ":Class Distribution: class_0 (59), class_1 (71), class_2 (48)\n",
      ":Creator: R.A. Fisher\n",
      ":Donor: Michael Marshall (MARSHALL%PLU@io.arc.nasa.gov)\n",
      ":Date: July, 1988\n",
      "\n",
      "This is a copy of UCI ML Wine recognition datasets.\n",
      "https://archive.ics.uci.edu/ml/machine-learning-databases/wine/wine.data\n",
      "\n",
      "The data is the results of a chemical analysis of wines grown in the same\n",
      "region in Italy by three different cultivators. There are thirteen different\n",
      "measurements taken for different constituents found in the three types of\n",
      "wine.\n",
      "\n",
      "Original Owners:\n",
      "\n",
      "Forina, M. et al, PARVUS -\n",
      "An Extendible Package for Data Exploration, Classification and Correlation.\n",
      "Institute of Pharmaceutical and Food Analysis and Technologies,\n",
      "Via Brigata Salerno, 16147 Genoa, Italy.\n",
      "\n",
      "Citation:\n",
      "\n",
      "Lichman, M. (2013). UCI Machine Learning Repository\n",
      "[https://archive.ics.uci.edu/ml]. Irvine, CA: University of California,\n",
      "School of Information and Computer Science.\n",
      "\n",
      ".. dropdown:: References\n",
      "\n",
      "    (1) S. Aeberhard, D. Coomans and O. de Vel,\n",
      "    Comparison of Classifiers in High Dimensional Settings,\n",
      "    Tech. Rep. no. 92-02, (1992), Dept. of Computer Science and Dept. of\n",
      "    Mathematics and Statistics, James Cook University of North Queensland.\n",
      "    (Also submitted to Technometrics).\n",
      "\n",
      "    The data was used with many others for comparing various\n",
      "    classifiers. The classes are separable, though only RDA\n",
      "    has achieved 100% correct classification.\n",
      "    (RDA : 100%, QDA 99.4%, LDA 98.9%, 1NN 96.1% (z-transformed data))\n",
      "    (All results using the leave-one-out technique)\n",
      "\n",
      "    (2) S. Aeberhard, D. Coomans and O. de Vel,\n",
      "    \"THE CLASSIFICATION PERFORMANCE OF RDA\"\n",
      "    Tech. Rep. no. 92-01, (1992), Dept. of Computer Science and Dept. of\n",
      "    Mathematics and Statistics, James Cook University of North Queensland.\n",
      "    (Also submitted to Journal of Chemometrics).\n",
      "\n"
     ]
    }
   ],
   "source": [
    "# Let's explore the 'DESC' or description key\n",
    "# The 'DESCR' key holds a long text block describing the dataset\n",
    "print(wine_data['DESCR'])"
   ]
  },
  {
   "cell_type": "markdown",
   "id": "85b3e9d1-f9e8-4efa-bab4-8379db692405",
   "metadata": {},
   "source": [
    "Now, to examine the target names and feature names."
   ]
  },
  {
   "cell_type": "code",
   "execution_count": 14,
   "id": "ac700ad0-4507-48ba-ab1e-d018d5062072",
   "metadata": {},
   "outputs": [
    {
     "name": "stdout",
     "output_type": "stream",
     "text": [
      "Target names: ['class_0' 'class_1' 'class_2']\n"
     ]
    }
   ],
   "source": [
    "# Display the target names\n",
    "print(\"Target names:\", wine_data['target_names'])"
   ]
  },
  {
   "cell_type": "code",
   "execution_count": 15,
   "id": "8fd83345-b64b-43e5-a5b6-4fdc46b2485b",
   "metadata": {},
   "outputs": [
    {
     "name": "stdout",
     "output_type": "stream",
     "text": [
      "Feature names: ['alcohol', 'malic_acid', 'ash', 'alcalinity_of_ash', 'magnesium', 'total_phenols', 'flavanoids', 'nonflavanoid_phenols', 'proanthocyanins', 'color_intensity', 'hue', 'od280/od315_of_diluted_wines', 'proline']\n"
     ]
    }
   ],
   "source": [
    "# Now display the feature names\n",
    "print(\"Feature names:\", wine_data['feature_names'])"
   ]
  },
  {
   "cell_type": "markdown",
   "id": "e4282aaa-c23b-43e0-9a90-776434ca9af0",
   "metadata": {},
   "source": [
    "Let's confirm just how many features there are."
   ]
  },
  {
   "cell_type": "code",
   "execution_count": 25,
   "id": "c45b23bd-186e-4f42-81f6-0b434f3aebd2",
   "metadata": {},
   "outputs": [
    {
     "data": {
      "text/plain": [
       "13"
      ]
     },
     "execution_count": 25,
     "metadata": {},
     "output_type": "execute_result"
    }
   ],
   "source": [
    "# Use len() to quickly check how many features there are\n",
    "len(wine_data['feature_names'])"
   ]
  },
  {
   "cell_type": "markdown",
   "id": "18bbdff2-2d29-41bb-a890-dd2f82dc4e42",
   "metadata": {},
   "source": [
    "### Wine Recognition Dataset Overview\n",
    "\n",
    "After reviewing the dataset, let's quickly summarize it:\n",
    "\n",
    "- **178** instances or wine samples\n",
    "- **30** features or attributes for each -- think: Alcohol, Malic Acid, Ash and so on\n",
    "- **3** wine classes  -- each representing a different cultivar, or grape variety)\n",
    "\n",
    "As we saw in the description, all the samples come from the same region in Italy but represent different cultivars based on their chemical profile. So, while all wines may be red, the model’s job is to distinguish between subtle variations -- a perfect challenge for a classification algorithm.\n",
    "\n",
    "At this point, the model *almost builds itself*. Our task:  \n",
    "\n",
    "Train a machine learning model that predicts the cultivar of a given wine based on its chemical makeup."
   ]
  },
  {
   "cell_type": "markdown",
   "id": "9ff4e15c-fccf-43a3-ae7d-aacb377d411f",
   "metadata": {},
   "source": [
    "## Visualize the dataset: Plot first, model second"
   ]
  },
  {
   "cell_type": "markdown",
   "id": "6361d118-e538-4ae2-8d04-4ee1d3c037f6",
   "metadata": {},
   "source": [
    "It's always a good idea to visualize the data before diving into the modeling. This helps with revealing patterns, spotting outlers and assessing the dataset at large. As alwasy: **Plot first, model second**."
   ]
  },
  {
   "cell_type": "code",
   "execution_count": 29,
   "id": "f302933a-c78c-419b-8b9e-dbc1a630b4f0",
   "metadata": {},
   "outputs": [
    {
     "data": {
      "text/html": [
       "<div>\n",
       "<style scoped>\n",
       "    .dataframe tbody tr th:only-of-type {\n",
       "        vertical-align: middle;\n",
       "    }\n",
       "\n",
       "    .dataframe tbody tr th {\n",
       "        vertical-align: top;\n",
       "    }\n",
       "\n",
       "    .dataframe thead th {\n",
       "        text-align: right;\n",
       "    }\n",
       "</style>\n",
       "<table border=\"1\" class=\"dataframe\">\n",
       "  <thead>\n",
       "    <tr style=\"text-align: right;\">\n",
       "      <th></th>\n",
       "      <th>alcohol</th>\n",
       "      <th>malic_acid</th>\n",
       "      <th>ash</th>\n",
       "      <th>alcalinity_of_ash</th>\n",
       "      <th>magnesium</th>\n",
       "      <th>total_phenols</th>\n",
       "      <th>flavanoids</th>\n",
       "      <th>nonflavanoid_phenols</th>\n",
       "      <th>proanthocyanins</th>\n",
       "      <th>color_intensity</th>\n",
       "      <th>hue</th>\n",
       "      <th>od280/od315_of_diluted_wines</th>\n",
       "      <th>proline</th>\n",
       "      <th>target</th>\n",
       "    </tr>\n",
       "  </thead>\n",
       "  <tbody>\n",
       "    <tr>\n",
       "      <th>0</th>\n",
       "      <td>14.23</td>\n",
       "      <td>1.71</td>\n",
       "      <td>2.43</td>\n",
       "      <td>15.6</td>\n",
       "      <td>127.0</td>\n",
       "      <td>2.80</td>\n",
       "      <td>3.06</td>\n",
       "      <td>0.28</td>\n",
       "      <td>2.29</td>\n",
       "      <td>5.64</td>\n",
       "      <td>1.04</td>\n",
       "      <td>3.92</td>\n",
       "      <td>1065.0</td>\n",
       "      <td>0</td>\n",
       "    </tr>\n",
       "    <tr>\n",
       "      <th>1</th>\n",
       "      <td>13.20</td>\n",
       "      <td>1.78</td>\n",
       "      <td>2.14</td>\n",
       "      <td>11.2</td>\n",
       "      <td>100.0</td>\n",
       "      <td>2.65</td>\n",
       "      <td>2.76</td>\n",
       "      <td>0.26</td>\n",
       "      <td>1.28</td>\n",
       "      <td>4.38</td>\n",
       "      <td>1.05</td>\n",
       "      <td>3.40</td>\n",
       "      <td>1050.0</td>\n",
       "      <td>0</td>\n",
       "    </tr>\n",
       "    <tr>\n",
       "      <th>2</th>\n",
       "      <td>13.16</td>\n",
       "      <td>2.36</td>\n",
       "      <td>2.67</td>\n",
       "      <td>18.6</td>\n",
       "      <td>101.0</td>\n",
       "      <td>2.80</td>\n",
       "      <td>3.24</td>\n",
       "      <td>0.30</td>\n",
       "      <td>2.81</td>\n",
       "      <td>5.68</td>\n",
       "      <td>1.03</td>\n",
       "      <td>3.17</td>\n",
       "      <td>1185.0</td>\n",
       "      <td>0</td>\n",
       "    </tr>\n",
       "    <tr>\n",
       "      <th>3</th>\n",
       "      <td>14.37</td>\n",
       "      <td>1.95</td>\n",
       "      <td>2.50</td>\n",
       "      <td>16.8</td>\n",
       "      <td>113.0</td>\n",
       "      <td>3.85</td>\n",
       "      <td>3.49</td>\n",
       "      <td>0.24</td>\n",
       "      <td>2.18</td>\n",
       "      <td>7.80</td>\n",
       "      <td>0.86</td>\n",
       "      <td>3.45</td>\n",
       "      <td>1480.0</td>\n",
       "      <td>0</td>\n",
       "    </tr>\n",
       "    <tr>\n",
       "      <th>4</th>\n",
       "      <td>13.24</td>\n",
       "      <td>2.59</td>\n",
       "      <td>2.87</td>\n",
       "      <td>21.0</td>\n",
       "      <td>118.0</td>\n",
       "      <td>2.80</td>\n",
       "      <td>2.69</td>\n",
       "      <td>0.39</td>\n",
       "      <td>1.82</td>\n",
       "      <td>4.32</td>\n",
       "      <td>1.04</td>\n",
       "      <td>2.93</td>\n",
       "      <td>735.0</td>\n",
       "      <td>0</td>\n",
       "    </tr>\n",
       "  </tbody>\n",
       "</table>\n",
       "</div>"
      ],
      "text/plain": [
       "   alcohol  malic_acid   ash  alcalinity_of_ash  magnesium  total_phenols  \\\n",
       "0    14.23        1.71  2.43               15.6      127.0           2.80   \n",
       "1    13.20        1.78  2.14               11.2      100.0           2.65   \n",
       "2    13.16        2.36  2.67               18.6      101.0           2.80   \n",
       "3    14.37        1.95  2.50               16.8      113.0           3.85   \n",
       "4    13.24        2.59  2.87               21.0      118.0           2.80   \n",
       "\n",
       "   flavanoids  nonflavanoid_phenols  proanthocyanins  color_intensity   hue  \\\n",
       "0        3.06                  0.28             2.29             5.64  1.04   \n",
       "1        2.76                  0.26             1.28             4.38  1.05   \n",
       "2        3.24                  0.30             2.81             5.68  1.03   \n",
       "3        3.49                  0.24             2.18             7.80  0.86   \n",
       "4        2.69                  0.39             1.82             4.32  1.04   \n",
       "\n",
       "   od280/od315_of_diluted_wines  proline  target  \n",
       "0                          3.92   1065.0       0  \n",
       "1                          3.40   1050.0       0  \n",
       "2                          3.17   1185.0       0  \n",
       "3                          3.45   1480.0       0  \n",
       "4                          2.93    735.0       0  "
      ]
     },
     "execution_count": 29,
     "metadata": {},
     "output_type": "execute_result"
    }
   ],
   "source": [
    "# First, turn the dataset into a DataFrame\n",
    "# Start with the imports\n",
    "import pandas as pd\n",
    "import matplotlib.pyplot as plt\n",
    "\n",
    "# Load dataset\n",
    "wine = pd.DataFrame(wine_data['data'], columns=wine_data['feature_names'])\n",
    "wine['target'] = wine_data['target']\n",
    "wine.head()"
   ]
  },
  {
   "cell_type": "markdown",
   "id": "ea7f66c6-4d92-48c6-b062-b7f11559f173",
   "metadata": {},
   "source": [
    "Let's quickly check the shape."
   ]
  },
  {
   "cell_type": "code",
   "execution_count": 30,
   "id": "1e208330-25ed-4d51-884b-dc6c79bdaa9d",
   "metadata": {},
   "outputs": [
    {
     "data": {
      "text/plain": [
       "(178, 14)"
      ]
     },
     "execution_count": 30,
     "metadata": {},
     "output_type": "execute_result"
    }
   ],
   "source": [
    "# Check the shape\n",
    "wine.shape"
   ]
  },
  {
   "cell_type": "markdown",
   "id": "aa1616f7-5009-4247-960b-3350e0b572f5",
   "metadata": {},
   "source": [
    "Next let's take a look at the class balance."
   ]
  },
  {
   "cell_type": "code",
   "execution_count": 36,
   "id": "9d3aef5e-0bda-4839-b85e-6f3de106ee76",
   "metadata": {},
   "outputs": [
    {
     "data": {
      "text/plain": [
       "target\n",
       "1    71\n",
       "0    59\n",
       "2    48\n",
       "Name: count, dtype: int64"
      ]
     },
     "execution_count": 36,
     "metadata": {},
     "output_type": "execute_result"
    }
   ],
   "source": [
    "# Use .value_counts() to check the balance of the DataFrame\n",
    "wine['target'].value_counts()"
   ]
  },
  {
   "cell_type": "markdown",
   "id": "f4c83f5f-e66d-44fd-b7be-8032c7184898",
   "metadata": {},
   "source": [
    "And now to visialize the above distribution with a simple bar plot."
   ]
  },
  {
   "cell_type": "code",
   "execution_count": 63,
   "id": "207795c4-56ea-4e65-b194-e4075053680d",
   "metadata": {},
   "outputs": [
    {
     "data": {
      "image/png": "[encoded data removed]",
      "text/plain": [
       "<Figure size 640x480 with 1 Axes>"
      ]
     },
     "metadata": {},
     "output_type": "display_data"
    }
   ],
   "source": [
    "# Get the class counts and sort them by class\n",
    "class_counts = wine['target'].value_counts().sort_index()\n",
    "class_counts\n",
    "\n",
    "# Plot the class distribution with matplotlib\n",
    "plt.bar(class_counts.index, class_counts.values) # Bar chart: x = class, y = count\n",
    "plt.title ('Distribution of Wine Classes') # Set the title for the graph\n",
    "plt.xlabel('Wine Class (Cultivar)') # Set the x-label with class info\n",
    "plt.ylabel('Count') # Set the y-label with the number of samples\n",
    "plt.xticks([0, 1, 2]) # Make sure the labels show up as 0, 1, 2 per actual classes\n",
    "plt.grid(axis='y', linestyle='--', alpha=0.7) # Add light horizontal gridlines for readability\n",
    "\n",
    "# Display the plot\n",
    "plt.show()"
   ]
  },
  {
   "cell_type": "markdown",
   "id": "b02e64e1-1414-418c-8e84-4b783d2ba589",
   "metadata": {},
   "source": [
    "Before we move on to modeling, let's punch up the visualzations. Like we said, **plot first (maybe twice), model second**. to further our understanding of the dataset, let's take a look at the distribution of alcohol content by wine class."
   ]
  },
  {
   "cell_type": "code",
   "execution_count": 69,
   "id": "408b6072-3327-43c2-98a5-eed6eecafe4c",
   "metadata": {},
   "outputs": [
    {
     "data": {
      "image/png": "[encoded data removed]",
      "text/plain": [
       "<Figure size 640x480 with 1 Axes>"
      ]
     },
     "metadata": {},
     "output_type": "display_data"
    }
   ],
   "source": [
    "# Create a histogram of alcohol content grouped by wine class\n",
    "\n",
    "# Start with a for loop that loops over each unique class label (0, 1, 2)\n",
    "for label in wine['target'].unique():\n",
    "    # Now, filter the DataFrame to just one class and plot its 'alcohol' values\n",
    "    plt.hist(\n",
    "        wine[wine['target'] == label]['alcohol'], \n",
    "        bins=15, # The number of bins determines the number of bars in the histogram\n",
    "        alpha=0.6, # Use semi-transparent (set alpha to 0.6) so that the histograms can overlap\n",
    "        label=f'Class {label}') # Create a dynamic label for the legend\n",
    "\n",
    "plt.title('Alcohol Content Distribution by Wine Class') # Set the title for the plot\n",
    "plt.xlabel('Alcohol') # Add the x-label for the feature being visualized\n",
    "plt.ylabel('Frequency') # Add the y-label for how often each value appears\n",
    "plt.legend() # Add a legend to distinguish the classes visually\n",
    "\n",
    "# Display the plot\n",
    "plt.show()"
   ]
  },
  {
   "cell_type": "markdown",
   "id": "e35966bd-98e0-4f8c-a900-baebcb05fd5a",
   "metadata": {},
   "source": [
    "And now, we're ready to start building our model."
   ]
  },
  {
   "cell_type": "markdown",
   "id": "c5eee963-b31f-4fbd-84a5-416da36f6940",
   "metadata": {},
   "source": [
    "## Split the training and test sets"
   ]
  },
  {
   "cell_type": "markdown",
   "id": "4b8bac82-d49a-4319-8366-3af57e6c3846",
   "metadata": {},
   "source": [
    "To prepare our dataset for modeling, we'll execute an 80/20 split between the training set and the test set. We begin by setting **X** -- our features -- and **Y** -- our targets."
   ]
  },
  {
   "cell_type": "code",
   "execution_count": 78,
   "id": "e78f5c78-1d4f-4957-9196-a306cdfa5024",
   "metadata": {},
   "outputs": [],
   "source": [
    "# Set X, the featyre variables\n",
    "# Important note: We need to drop the target variable\n",
    "X = wine.drop('target', axis=1)"
   ]
  },
  {
   "cell_type": "code",
   "execution_count": 72,
   "id": "70037cff-bb63-45ba-91ee-70ade1e1f8bd",
   "metadata": {},
   "outputs": [
    {
     "data": {
      "text/plain": [
       "(178, 13)"
      ]
     },
     "execution_count": 72,
     "metadata": {},
     "output_type": "execute_result"
    }
   ],
   "source": [
    "# Check the shape of X\n",
    "X.shape"
   ]
  },
  {
   "cell_type": "code",
   "execution_count": 73,
   "id": "b0204c81-6b9c-4be1-b289-e4514910dbdf",
   "metadata": {},
   "outputs": [
    {
     "data": {
      "text/plain": [
       "pandas.core.frame.DataFrame"
      ]
     },
     "execution_count": 73,
     "metadata": {},
     "output_type": "execute_result"
    }
   ],
   "source": [
    "# Check the type\n",
    "type(X)"
   ]
  },
  {
   "cell_type": "code",
   "execution_count": 75,
   "id": "0e8f9b66-6d0f-46e5-85aa-5a5fc0ffc8bd",
   "metadata": {},
   "outputs": [],
   "source": [
    "# Now set y, the target\n",
    "y = wine['target']"
   ]
  },
  {
   "cell_type": "code",
   "execution_count": 76,
   "id": "d70bf403-4c40-47f2-ae45-ec1398f2f656",
   "metadata": {},
   "outputs": [
    {
     "data": {
      "text/plain": [
       "(178,)"
      ]
     },
     "execution_count": 76,
     "metadata": {},
     "output_type": "execute_result"
    }
   ],
   "source": [
    "# Check the shape of y\n",
    "y.shape"
   ]
  },
  {
   "cell_type": "code",
   "execution_count": 77,
   "id": "c5687780-0c83-460a-9f9d-3d2c67ae7411",
   "metadata": {},
   "outputs": [
    {
     "data": {
      "text/plain": [
       "pandas.core.series.Series"
      ]
     },
     "execution_count": 77,
     "metadata": {},
     "output_type": "execute_result"
    }
   ],
   "source": [
    "# Check the type\n",
    "type(y)"
   ]
  },
  {
   "cell_type": "markdown",
   "id": "d216a34e-7ad0-43c5-84b7-1620721df47e",
   "metadata": {},
   "source": [
    "Next we'll import `train_test_split` from `sklearn.model_selection` to knock out the 80/20 split."
   ]
  },
  {
   "cell_type": "code",
   "execution_count": 79,
   "id": "a95ace25-88d1-4e46-a5be-db94dd659feb",
   "metadata": {},
   "outputs": [],
   "source": [
    "# Import test_train_split from sklearn model selection\n",
    "from sklearn.model_selection import train_test_split\n",
    "\n",
    "# Split the features and labels into training and test sets; 80% goes to training, 20% to testing \n",
    "# Also: set the random_state to 0 so that we can replicate the results\n",
    "X_train, X_test, y_train, y_test = train_test_split(\n",
    "    X, y, test_size=0.2, random_state=0)"
   ]
  },
  {
   "cell_type": "code",
   "execution_count": 80,
   "id": "0282bc3e-81ca-49c6-97c1-11dd2af41076",
   "metadata": {},
   "outputs": [
    {
     "name": "stdout",
     "output_type": "stream",
     "text": [
      "X_train shape: (142, 13)\n",
      "y_train shape: (142,)\n"
     ]
    }
   ],
   "source": [
    "# Display the shape of the X_train and y_train datasets\n",
    "print(\"X_train shape:\", X_train.shape)\n",
    "print(\"y_train shape:\", y_train.shape)"
   ]
  },
  {
   "cell_type": "code",
   "execution_count": 81,
   "id": "8eed1444-b45d-44cb-a599-a133195bb40d",
   "metadata": {},
   "outputs": [
    {
     "name": "stdout",
     "output_type": "stream",
     "text": [
      "X_test shape: (36, 13)\n",
      "y_test shape: (36,)\n"
     ]
    }
   ],
   "source": [
    "# Now display the shape of the X_test and y_test datasets\n",
    "print(\"X_test shape:\", X_test.shape)\n",
    "print(\"y_test shape:\", y_test.shape)"
   ]
  },
  {
   "cell_type": "code",
   "execution_count": 88,
   "id": "aef343d9-9d22-47df-b088-5600a40aa93d",
   "metadata": {},
   "outputs": [
    {
     "data": {
      "text/plain": [
       "178"
      ]
     },
     "execution_count": 88,
     "metadata": {},
     "output_type": "execute_result"
    }
   ],
   "source": [
    "# As we would expect, X_train + X_test = the length of the whole dataset\n",
    "len(X_train + X_test)"
   ]
  },
  {
   "cell_type": "code",
   "execution_count": 164,
   "id": "c0402eb9-0934-4d25-bca5-652ee421a944",
   "metadata": {},
   "outputs": [
    {
     "data": {
      "text/plain": [
       "569"
      ]
     },
     "execution_count": 164,
     "metadata": {},
     "output_type": "execute_result"
    }
   ],
   "source": [
    "# And, of course, the same for y\n",
    "len(y_train + y_test)"
   ]
  },
  {
   "cell_type": "markdown",
   "id": "66de2404-5e18-4483-a3a8-0415884cd6ec",
   "metadata": {},
   "source": [
    "And, just to double check that 80/20 split..."
   ]
  },
  {
   "cell_type": "code",
   "execution_count": 86,
   "id": "cbce9cdc-8ccf-42c9-8de9-c5fe9388d0bc",
   "metadata": {},
   "outputs": [
    {
     "data": {
      "text/plain": [
       "0.797752808988764"
      ]
     },
     "execution_count": 86,
     "metadata": {},
     "output_type": "execute_result"
    }
   ],
   "source": [
    "# Check the percentage of X_train\n",
    "len(X_train) / len(wine)"
   ]
  },
  {
   "cell_type": "code",
   "execution_count": 89,
   "id": "5c4be3d0-66f7-4583-95b0-be12cf28b375",
   "metadata": {},
   "outputs": [
    {
     "data": {
      "text/plain": [
       "0.20224719101123595"
      ]
     },
     "execution_count": 89,
     "metadata": {},
     "output_type": "execute_result"
    }
   ],
   "source": [
    "# And check the percentage of X_test\n",
    "len(X_test) / len(wine)"
   ]
  },
  {
   "cell_type": "markdown",
   "id": "03ccd75b-492e-4226-8c5b-58dabb43b805",
   "metadata": {},
   "source": [
    "## Build the kNN Classifier and fit the model"
   ]
  },
  {
   "cell_type": "markdown",
   "id": "9634dc8d-a01c-46ec-b30e-5d690160b53f",
   "metadata": {},
   "source": [
    "Before we start building, let's explain, intuitively, *how* kNN works:\n",
    "\n",
    "**kNN** looks at the label (hello, **target variable**) of the most similar observation to predict what label should be attached to a new observation. But we can also tell the model to look at 2 neighbors, or 3 neighbors, or way more than that. What we're about to figure out is: What's the optimal number of neighbors to ask?\n",
    "\n",
    "To begin, we'll build models with n_neighbors = {1, 2, 3, 4, 5}, compare performance on the training and test set and see what the data tells us."
   ]
  },
  {
   "cell_type": "code",
   "execution_count": 90,
   "id": "5a389b07-92a2-4ba6-a950-bc8ce6d610b1",
   "metadata": {},
   "outputs": [
    {
     "data": {
      "text/html": [
       "<style>#sk-container-id-1 {\n",
       "  /* Definition of color scheme common for light and dark mode */\n",
       "  --sklearn-color-text: black;\n",
       "  --sklearn-color-line: gray;\n",
       "  /* Definition of color scheme for unfitted estimators */\n",
       "  --sklearn-color-unfitted-level-0: #fff5e6;\n",
       "  --sklearn-color-unfitted-level-1: #f6e4d2;\n",
       "  --sklearn-color-unfitted-level-2: #ffe0b3;\n",
       "  --sklearn-color-unfitted-level-3: chocolate;\n",
       "  /* Definition of color scheme for fitted estimators */\n",
       "  --sklearn-color-fitted-level-0: #f0f8ff;\n",
       "  --sklearn-color-fitted-level-1: #d4ebff;\n",
       "  --sklearn-color-fitted-level-2: #b3dbfd;\n",
       "  --sklearn-color-fitted-level-3: cornflowerblue;\n",
       "\n",
       "  /* Specific color for light theme */\n",
       "  --sklearn-color-text-on-default-background: var(--sg-text-color, var(--theme-code-foreground, var(--jp-content-font-color1, black)));\n",
       "  --sklearn-color-background: var(--sg-background-color, var(--theme-background, var(--jp-layout-color0, white)));\n",
       "  --sklearn-color-border-box: var(--sg-text-color, var(--theme-code-foreground, var(--jp-content-font-color1, black)));\n",
       "  --sklearn-color-icon: #696969;\n",
       "\n",
       "  @media (prefers-color-scheme: dark) {\n",
       "    /* Redefinition of color scheme for dark theme */\n",
       "    --sklearn-color-text-on-default-background: var(--sg-text-color, var(--theme-code-foreground, var(--jp-content-font-color1, white)));\n",
       "    --sklearn-color-background: var(--sg-background-color, var(--theme-background, var(--jp-layout-color0, #111)));\n",
       "    --sklearn-color-border-box: var(--sg-text-color, var(--theme-code-foreground, var(--jp-content-font-color1, white)));\n",
       "    --sklearn-color-icon: #878787;\n",
       "  }\n",
       "}\n",
       "\n",
       "#sk-container-id-1 {\n",
       "  color: var(--sklearn-color-text);\n",
       "}\n",
       "\n",
       "#sk-container-id-1 pre {\n",
       "  padding: 0;\n",
       "}\n",
       "\n",
       "#sk-container-id-1 input.sk-hidden--visually {\n",
       "  border: 0;\n",
       "  clip: rect(1px 1px 1px 1px);\n",
       "  clip: rect(1px, 1px, 1px, 1px);\n",
       "  height: 1px;\n",
       "  margin: -1px;\n",
       "  overflow: hidden;\n",
       "  padding: 0;\n",
       "  position: absolute;\n",
       "  width: 1px;\n",
       "}\n",
       "\n",
       "#sk-container-id-1 div.sk-dashed-wrapped {\n",
       "  border: 1px dashed var(--sklearn-color-line);\n",
       "  margin: 0 0.4em 0.5em 0.4em;\n",
       "  box-sizing: border-box;\n",
       "  padding-bottom: 0.4em;\n",
       "  background-color: var(--sklearn-color-background);\n",
       "}\n",
       "\n",
       "#sk-container-id-1 div.sk-container {\n",
       "  /* jupyter's `normalize.less` sets `[hidden] { display: none; }`\n",
       "     but bootstrap.min.css set `[hidden] { display: none !important; }`\n",
       "     so we also need the `!important` here to be able to override the\n",
       "     default hidden behavior on the sphinx rendered scikit-learn.org.\n",
       "     See: https://github.com/scikit-learn/scikit-learn/issues/21755 */\n",
       "  display: inline-block !important;\n",
       "  position: relative;\n",
       "}\n",
       "\n",
       "#sk-container-id-1 div.sk-text-repr-fallback {\n",
       "  display: none;\n",
       "}\n",
       "\n",
       "div.sk-parallel-item,\n",
       "div.sk-serial,\n",
       "div.sk-item {\n",
       "  /* draw centered vertical line to link estimators */\n",
       "  background-image: linear-gradient(var(--sklearn-color-text-on-default-background), var(--sklearn-color-text-on-default-background));\n",
       "  background-size: 2px 100%;\n",
       "  background-repeat: no-repeat;\n",
       "  background-position: center center;\n",
       "}\n",
       "\n",
       "/* Parallel-specific style estimator block */\n",
       "\n",
       "#sk-container-id-1 div.sk-parallel-item::after {\n",
       "  content: \"\";\n",
       "  width: 100%;\n",
       "  border-bottom: 2px solid var(--sklearn-color-text-on-default-background);\n",
       "  flex-grow: 1;\n",
       "}\n",
       "\n",
       "#sk-container-id-1 div.sk-parallel {\n",
       "  display: flex;\n",
       "  align-items: stretch;\n",
       "  justify-content: center;\n",
       "  background-color: var(--sklearn-color-background);\n",
       "  position: relative;\n",
       "}\n",
       "\n",
       "#sk-container-id-1 div.sk-parallel-item {\n",
       "  display: flex;\n",
       "  flex-direction: column;\n",
       "}\n",
       "\n",
       "#sk-container-id-1 div.sk-parallel-item:first-child::after {\n",
       "  align-self: flex-end;\n",
       "  width: 50%;\n",
       "}\n",
       "\n",
       "#sk-container-id-1 div.sk-parallel-item:last-child::after {\n",
       "  align-self: flex-start;\n",
       "  width: 50%;\n",
       "}\n",
       "\n",
       "#sk-container-id-1 div.sk-parallel-item:only-child::after {\n",
       "  width: 0;\n",
       "}\n",
       "\n",
       "/* Serial-specific style estimator block */\n",
       "\n",
       "#sk-container-id-1 div.sk-serial {\n",
       "  display: flex;\n",
       "  flex-direction: column;\n",
       "  align-items: center;\n",
       "  background-color: var(--sklearn-color-background);\n",
       "  padding-right: 1em;\n",
       "  padding-left: 1em;\n",
       "}\n",
       "\n",
       "\n",
       "/* Toggleable style: style used for estimator/Pipeline/ColumnTransformer box that is\n",
       "clickable and can be expanded/collapsed.\n",
       "- Pipeline and ColumnTransformer use this feature and define the default style\n",
       "- Estimators will overwrite some part of the style using the `sk-estimator` class\n",
       "*/\n",
       "\n",
       "/* Pipeline and ColumnTransformer style (default) */\n",
       "\n",
       "#sk-container-id-1 div.sk-toggleable {\n",
       "  /* Default theme specific background. It is overwritten whether we have a\n",
       "  specific estimator or a Pipeline/ColumnTransformer */\n",
       "  background-color: var(--sklearn-color-background);\n",
       "}\n",
       "\n",
       "/* Toggleable label */\n",
       "#sk-container-id-1 label.sk-toggleable__label {\n",
       "  cursor: pointer;\n",
       "  display: block;\n",
       "  width: 100%;\n",
       "  margin-bottom: 0;\n",
       "  padding: 0.5em;\n",
       "  box-sizing: border-box;\n",
       "  text-align: center;\n",
       "}\n",
       "\n",
       "#sk-container-id-1 label.sk-toggleable__label-arrow:before {\n",
       "  /* Arrow on the left of the label */\n",
       "  content: \"▸\";\n",
       "  float: left;\n",
       "  margin-right: 0.25em;\n",
       "  color: var(--sklearn-color-icon);\n",
       "}\n",
       "\n",
       "#sk-container-id-1 label.sk-toggleable__label-arrow:hover:before {\n",
       "  color: var(--sklearn-color-text);\n",
       "}\n",
       "\n",
       "/* Toggleable content - dropdown */\n",
       "\n",
       "#sk-container-id-1 div.sk-toggleable__content {\n",
       "  max-height: 0;\n",
       "  max-width: 0;\n",
       "  overflow: hidden;\n",
       "  text-align: left;\n",
       "  /* unfitted */\n",
       "  background-color: var(--sklearn-color-unfitted-level-0);\n",
       "}\n",
       "\n",
       "#sk-container-id-1 div.sk-toggleable__content.fitted {\n",
       "  /* fitted */\n",
       "  background-color: var(--sklearn-color-fitted-level-0);\n",
       "}\n",
       "\n",
       "#sk-container-id-1 div.sk-toggleable__content pre {\n",
       "  margin: 0.2em;\n",
       "  border-radius: 0.25em;\n",
       "  color: var(--sklearn-color-text);\n",
       "  /* unfitted */\n",
       "  background-color: var(--sklearn-color-unfitted-level-0);\n",
       "}\n",
       "\n",
       "#sk-container-id-1 div.sk-toggleable__content.fitted pre {\n",
       "  /* unfitted */\n",
       "  background-color: var(--sklearn-color-fitted-level-0);\n",
       "}\n",
       "\n",
       "#sk-container-id-1 input.sk-toggleable__control:checked~div.sk-toggleable__content {\n",
       "  /* Expand drop-down */\n",
       "  max-height: 200px;\n",
       "  max-width: 100%;\n",
       "  overflow: auto;\n",
       "}\n",
       "\n",
       "#sk-container-id-1 input.sk-toggleable__control:checked~label.sk-toggleable__label-arrow:before {\n",
       "  content: \"▾\";\n",
       "}\n",
       "\n",
       "/* Pipeline/ColumnTransformer-specific style */\n",
       "\n",
       "#sk-container-id-1 div.sk-label input.sk-toggleable__control:checked~label.sk-toggleable__label {\n",
       "  color: var(--sklearn-color-text);\n",
       "  background-color: var(--sklearn-color-unfitted-level-2);\n",
       "}\n",
       "\n",
       "#sk-container-id-1 div.sk-label.fitted input.sk-toggleable__control:checked~label.sk-toggleable__label {\n",
       "  background-color: var(--sklearn-color-fitted-level-2);\n",
       "}\n",
       "\n",
       "/* Estimator-specific style */\n",
       "\n",
       "/* Colorize estimator box */\n",
       "#sk-container-id-1 div.sk-estimator input.sk-toggleable__control:checked~label.sk-toggleable__label {\n",
       "  /* unfitted */\n",
       "  background-color: var(--sklearn-color-unfitted-level-2);\n",
       "}\n",
       "\n",
       "#sk-container-id-1 div.sk-estimator.fitted input.sk-toggleable__control:checked~label.sk-toggleable__label {\n",
       "  /* fitted */\n",
       "  background-color: var(--sklearn-color-fitted-level-2);\n",
       "}\n",
       "\n",
       "#sk-container-id-1 div.sk-label label.sk-toggleable__label,\n",
       "#sk-container-id-1 div.sk-label label {\n",
       "  /* The background is the default theme color */\n",
       "  color: var(--sklearn-color-text-on-default-background);\n",
       "}\n",
       "\n",
       "/* On hover, darken the color of the background */\n",
       "#sk-container-id-1 div.sk-label:hover label.sk-toggleable__label {\n",
       "  color: var(--sklearn-color-text);\n",
       "  background-color: var(--sklearn-color-unfitted-level-2);\n",
       "}\n",
       "\n",
       "/* Label box, darken color on hover, fitted */\n",
       "#sk-container-id-1 div.sk-label.fitted:hover label.sk-toggleable__label.fitted {\n",
       "  color: var(--sklearn-color-text);\n",
       "  background-color: var(--sklearn-color-fitted-level-2);\n",
       "}\n",
       "\n",
       "/* Estimator label */\n",
       "\n",
       "#sk-container-id-1 div.sk-label label {\n",
       "  font-family: monospace;\n",
       "  font-weight: bold;\n",
       "  display: inline-block;\n",
       "  line-height: 1.2em;\n",
       "}\n",
       "\n",
       "#sk-container-id-1 div.sk-label-container {\n",
       "  text-align: center;\n",
       "}\n",
       "\n",
       "/* Estimator-specific */\n",
       "#sk-container-id-1 div.sk-estimator {\n",
       "  font-family: monospace;\n",
       "  border: 1px dotted var(--sklearn-color-border-box);\n",
       "  border-radius: 0.25em;\n",
       "  box-sizing: border-box;\n",
       "  margin-bottom: 0.5em;\n",
       "  /* unfitted */\n",
       "  background-color: var(--sklearn-color-unfitted-level-0);\n",
       "}\n",
       "\n",
       "#sk-container-id-1 div.sk-estimator.fitted {\n",
       "  /* fitted */\n",
       "  background-color: var(--sklearn-color-fitted-level-0);\n",
       "}\n",
       "\n",
       "/* on hover */\n",
       "#sk-container-id-1 div.sk-estimator:hover {\n",
       "  /* unfitted */\n",
       "  background-color: var(--sklearn-color-unfitted-level-2);\n",
       "}\n",
       "\n",
       "#sk-container-id-1 div.sk-estimator.fitted:hover {\n",
       "  /* fitted */\n",
       "  background-color: var(--sklearn-color-fitted-level-2);\n",
       "}\n",
       "\n",
       "/* Specification for estimator info (e.g. \"i\" and \"?\") */\n",
       "\n",
       "/* Common style for \"i\" and \"?\" */\n",
       "\n",
       ".sk-estimator-doc-link,\n",
       "a:link.sk-estimator-doc-link,\n",
       "a:visited.sk-estimator-doc-link {\n",
       "  float: right;\n",
       "  font-size: smaller;\n",
       "  line-height: 1em;\n",
       "  font-family: monospace;\n",
       "  background-color: var(--sklearn-color-background);\n",
       "  border-radius: 1em;\n",
       "  height: 1em;\n",
       "  width: 1em;\n",
       "  text-decoration: none !important;\n",
       "  margin-left: 1ex;\n",
       "  /* unfitted */\n",
       "  border: var(--sklearn-color-unfitted-level-1) 1pt solid;\n",
       "  color: var(--sklearn-color-unfitted-level-1);\n",
       "}\n",
       "\n",
       ".sk-estimator-doc-link.fitted,\n",
       "a:link.sk-estimator-doc-link.fitted,\n",
       "a:visited.sk-estimator-doc-link.fitted {\n",
       "  /* fitted */\n",
       "  border: var(--sklearn-color-fitted-level-1) 1pt solid;\n",
       "  color: var(--sklearn-color-fitted-level-1);\n",
       "}\n",
       "\n",
       "/* On hover */\n",
       "div.sk-estimator:hover .sk-estimator-doc-link:hover,\n",
       ".sk-estimator-doc-link:hover,\n",
       "div.sk-label-container:hover .sk-estimator-doc-link:hover,\n",
       ".sk-estimator-doc-link:hover {\n",
       "  /* unfitted */\n",
       "  background-color: var(--sklearn-color-unfitted-level-3);\n",
       "  color: var(--sklearn-color-background);\n",
       "  text-decoration: none;\n",
       "}\n",
       "\n",
       "div.sk-estimator.fitted:hover .sk-estimator-doc-link.fitted:hover,\n",
       ".sk-estimator-doc-link.fitted:hover,\n",
       "div.sk-label-container:hover .sk-estimator-doc-link.fitted:hover,\n",
       ".sk-estimator-doc-link.fitted:hover {\n",
       "  /* fitted */\n",
       "  background-color: var(--sklearn-color-fitted-level-3);\n",
       "  color: var(--sklearn-color-background);\n",
       "  text-decoration: none;\n",
       "}\n",
       "\n",
       "/* Span, style for the box shown on hovering the info icon */\n",
       ".sk-estimator-doc-link span {\n",
       "  display: none;\n",
       "  z-index: 9999;\n",
       "  position: relative;\n",
       "  font-weight: normal;\n",
       "  right: .2ex;\n",
       "  padding: .5ex;\n",
       "  margin: .5ex;\n",
       "  width: min-content;\n",
       "  min-width: 20ex;\n",
       "  max-width: 50ex;\n",
       "  color: var(--sklearn-color-text);\n",
       "  box-shadow: 2pt 2pt 4pt #999;\n",
       "  /* unfitted */\n",
       "  background: var(--sklearn-color-unfitted-level-0);\n",
       "  border: .5pt solid var(--sklearn-color-unfitted-level-3);\n",
       "}\n",
       "\n",
       ".sk-estimator-doc-link.fitted span {\n",
       "  /* fitted */\n",
       "  background: var(--sklearn-color-fitted-level-0);\n",
       "  border: var(--sklearn-color-fitted-level-3);\n",
       "}\n",
       "\n",
       ".sk-estimator-doc-link:hover span {\n",
       "  display: block;\n",
       "}\n",
       "\n",
       "/* \"?\"-specific style due to the `<a>` HTML tag */\n",
       "\n",
       "#sk-container-id-1 a.estimator_doc_link {\n",
       "  float: right;\n",
       "  font-size: 1rem;\n",
       "  line-height: 1em;\n",
       "  font-family: monospace;\n",
       "  background-color: var(--sklearn-color-background);\n",
       "  border-radius: 1rem;\n",
       "  height: 1rem;\n",
       "  width: 1rem;\n",
       "  text-decoration: none;\n",
       "  /* unfitted */\n",
       "  color: var(--sklearn-color-unfitted-level-1);\n",
       "  border: var(--sklearn-color-unfitted-level-1) 1pt solid;\n",
       "}\n",
       "\n",
       "#sk-container-id-1 a.estimator_doc_link.fitted {\n",
       "  /* fitted */\n",
       "  border: var(--sklearn-color-fitted-level-1) 1pt solid;\n",
       "  color: var(--sklearn-color-fitted-level-1);\n",
       "}\n",
       "\n",
       "/* On hover */\n",
       "#sk-container-id-1 a.estimator_doc_link:hover {\n",
       "  /* unfitted */\n",
       "  background-color: var(--sklearn-color-unfitted-level-3);\n",
       "  color: var(--sklearn-color-background);\n",
       "  text-decoration: none;\n",
       "}\n",
       "\n",
       "#sk-container-id-1 a.estimator_doc_link.fitted:hover {\n",
       "  /* fitted */\n",
       "  background-color: var(--sklearn-color-fitted-level-3);\n",
       "}\n",
       "</style><div id=\"sk-container-id-1\" class=\"sk-top-container\"><div class=\"sk-text-repr-fallback\"><pre>KNeighborsClassifier(n_neighbors=1)</pre><b>In a Jupyter environment, please rerun this cell to show the HTML representation or trust the notebook. <br />On GitHub, the HTML representation is unable to render, please try loading this page with nbviewer.org.</b></div><div class=\"sk-container\" hidden><div class=\"sk-item\"><div class=\"sk-estimator  sk-toggleable\"><input class=\"sk-toggleable__control sk-hidden--visually\" id=\"sk-estimator-id-1\" type=\"checkbox\" checked><label for=\"sk-estimator-id-1\" class=\"sk-toggleable__label  sk-toggleable__label-arrow \">&nbsp;&nbsp;KNeighborsClassifier<a class=\"sk-estimator-doc-link \" rel=\"noreferrer\" target=\"_blank\" href=\"https://scikit-learn.org/1.5/modules/generated/sklearn.neighbors.KNeighborsClassifier.html\">?<span>Documentation for KNeighborsClassifier</span></a><span class=\"sk-estimator-doc-link \">i<span>Not fitted</span></span></label><div class=\"sk-toggleable__content \"><pre>KNeighborsClassifier(n_neighbors=1)</pre></div> </div></div></div></div>"
      ],
      "text/plain": [
       "KNeighborsClassifier(n_neighbors=1)"
      ]
     },
     "execution_count": 90,
     "metadata": {},
     "output_type": "execute_result"
    }
   ],
   "source": [
    "# To begin, import the KNN classifier from sklearn.neighbors\n",
    "from sklearn.neighbors import KNeighborsClassifier\n",
    "\n",
    "# Initialize the model \n",
    "# Note: We begin by setting the model to n_neighbors=1, which means it only considers the closest neighbor\n",
    "knn_1 = KNeighborsClassifier(n_neighbors=1)\n",
    "knn_1"
   ]
  },
  {
   "cell_type": "markdown",
   "id": "a8cc10b2-6e47-44fb-920a-76dc5c576041",
   "metadata": {},
   "source": [
    "Next, we fit the model on the training set -- X_train and y_train.\n",
    "\n",
    "In scikit-lean, `.fit()` is where the *real* learning begins. What we're doing with this code is asking the model to **memorize the training data** -- not to draw patterns like we'd see in a traditional regression model. Instead, our model is storing the coordinates of *every* observation.\n",
    "\n",
    "This process is why kNN is known as a **lazy learner** -- it doesn't *train* in the classic sense. Instead, it waits until we feed it a new observation and then looks areound at the training set to see who's nearby. And, for now, that *who* is just the closest neighbor."
   ]
  },
  {
   "cell_type": "code",
   "execution_count": 91,
   "id": "5d7b18ae-079f-42f4-af92-9eafc2dfe27d",
   "metadata": {},
   "outputs": [
    {
     "data": {
      "text/html": [
       "<style>#sk-container-id-2 {\n",
       "  /* Definition of color scheme common for light and dark mode */\n",
       "  --sklearn-color-text: black;\n",
       "  --sklearn-color-line: gray;\n",
       "  /* Definition of color scheme for unfitted estimators */\n",
       "  --sklearn-color-unfitted-level-0: #fff5e6;\n",
       "  --sklearn-color-unfitted-level-1: #f6e4d2;\n",
       "  --sklearn-color-unfitted-level-2: #ffe0b3;\n",
       "  --sklearn-color-unfitted-level-3: chocolate;\n",
       "  /* Definition of color scheme for fitted estimators */\n",
       "  --sklearn-color-fitted-level-0: #f0f8ff;\n",
       "  --sklearn-color-fitted-level-1: #d4ebff;\n",
       "  --sklearn-color-fitted-level-2: #b3dbfd;\n",
       "  --sklearn-color-fitted-level-3: cornflowerblue;\n",
       "\n",
       "  /* Specific color for light theme */\n",
       "  --sklearn-color-text-on-default-background: var(--sg-text-color, var(--theme-code-foreground, var(--jp-content-font-color1, black)));\n",
       "  --sklearn-color-background: var(--sg-background-color, var(--theme-background, var(--jp-layout-color0, white)));\n",
       "  --sklearn-color-border-box: var(--sg-text-color, var(--theme-code-foreground, var(--jp-content-font-color1, black)));\n",
       "  --sklearn-color-icon: #696969;\n",
       "\n",
       "  @media (prefers-color-scheme: dark) {\n",
       "    /* Redefinition of color scheme for dark theme */\n",
       "    --sklearn-color-text-on-default-background: var(--sg-text-color, var(--theme-code-foreground, var(--jp-content-font-color1, white)));\n",
       "    --sklearn-color-background: var(--sg-background-color, var(--theme-background, var(--jp-layout-color0, #111)));\n",
       "    --sklearn-color-border-box: var(--sg-text-color, var(--theme-code-foreground, var(--jp-content-font-color1, white)));\n",
       "    --sklearn-color-icon: #878787;\n",
       "  }\n",
       "}\n",
       "\n",
       "#sk-container-id-2 {\n",
       "  color: var(--sklearn-color-text);\n",
       "}\n",
       "\n",
       "#sk-container-id-2 pre {\n",
       "  padding: 0;\n",
       "}\n",
       "\n",
       "#sk-container-id-2 input.sk-hidden--visually {\n",
       "  border: 0;\n",
       "  clip: rect(1px 1px 1px 1px);\n",
       "  clip: rect(1px, 1px, 1px, 1px);\n",
       "  height: 1px;\n",
       "  margin: -1px;\n",
       "  overflow: hidden;\n",
       "  padding: 0;\n",
       "  position: absolute;\n",
       "  width: 1px;\n",
       "}\n",
       "\n",
       "#sk-container-id-2 div.sk-dashed-wrapped {\n",
       "  border: 1px dashed var(--sklearn-color-line);\n",
       "  margin: 0 0.4em 0.5em 0.4em;\n",
       "  box-sizing: border-box;\n",
       "  padding-bottom: 0.4em;\n",
       "  background-color: var(--sklearn-color-background);\n",
       "}\n",
       "\n",
       "#sk-container-id-2 div.sk-container {\n",
       "  /* jupyter's `normalize.less` sets `[hidden] { display: none; }`\n",
       "     but bootstrap.min.css set `[hidden] { display: none !important; }`\n",
       "     so we also need the `!important` here to be able to override the\n",
       "     default hidden behavior on the sphinx rendered scikit-learn.org.\n",
       "     See: https://github.com/scikit-learn/scikit-learn/issues/21755 */\n",
       "  display: inline-block !important;\n",
       "  position: relative;\n",
       "}\n",
       "\n",
       "#sk-container-id-2 div.sk-text-repr-fallback {\n",
       "  display: none;\n",
       "}\n",
       "\n",
       "div.sk-parallel-item,\n",
       "div.sk-serial,\n",
       "div.sk-item {\n",
       "  /* draw centered vertical line to link estimators */\n",
       "  background-image: linear-gradient(var(--sklearn-color-text-on-default-background), var(--sklearn-color-text-on-default-background));\n",
       "  background-size: 2px 100%;\n",
       "  background-repeat: no-repeat;\n",
       "  background-position: center center;\n",
       "}\n",
       "\n",
       "/* Parallel-specific style estimator block */\n",
       "\n",
       "#sk-container-id-2 div.sk-parallel-item::after {\n",
       "  content: \"\";\n",
       "  width: 100%;\n",
       "  border-bottom: 2px solid var(--sklearn-color-text-on-default-background);\n",
       "  flex-grow: 1;\n",
       "}\n",
       "\n",
       "#sk-container-id-2 div.sk-parallel {\n",
       "  display: flex;\n",
       "  align-items: stretch;\n",
       "  justify-content: center;\n",
       "  background-color: var(--sklearn-color-background);\n",
       "  position: relative;\n",
       "}\n",
       "\n",
       "#sk-container-id-2 div.sk-parallel-item {\n",
       "  display: flex;\n",
       "  flex-direction: column;\n",
       "}\n",
       "\n",
       "#sk-container-id-2 div.sk-parallel-item:first-child::after {\n",
       "  align-self: flex-end;\n",
       "  width: 50%;\n",
       "}\n",
       "\n",
       "#sk-container-id-2 div.sk-parallel-item:last-child::after {\n",
       "  align-self: flex-start;\n",
       "  width: 50%;\n",
       "}\n",
       "\n",
       "#sk-container-id-2 div.sk-parallel-item:only-child::after {\n",
       "  width: 0;\n",
       "}\n",
       "\n",
       "/* Serial-specific style estimator block */\n",
       "\n",
       "#sk-container-id-2 div.sk-serial {\n",
       "  display: flex;\n",
       "  flex-direction: column;\n",
       "  align-items: center;\n",
       "  background-color: var(--sklearn-color-background);\n",
       "  padding-right: 1em;\n",
       "  padding-left: 1em;\n",
       "}\n",
       "\n",
       "\n",
       "/* Toggleable style: style used for estimator/Pipeline/ColumnTransformer box that is\n",
       "clickable and can be expanded/collapsed.\n",
       "- Pipeline and ColumnTransformer use this feature and define the default style\n",
       "- Estimators will overwrite some part of the style using the `sk-estimator` class\n",
       "*/\n",
       "\n",
       "/* Pipeline and ColumnTransformer style (default) */\n",
       "\n",
       "#sk-container-id-2 div.sk-toggleable {\n",
       "  /* Default theme specific background. It is overwritten whether we have a\n",
       "  specific estimator or a Pipeline/ColumnTransformer */\n",
       "  background-color: var(--sklearn-color-background);\n",
       "}\n",
       "\n",
       "/* Toggleable label */\n",
       "#sk-container-id-2 label.sk-toggleable__label {\n",
       "  cursor: pointer;\n",
       "  display: block;\n",
       "  width: 100%;\n",
       "  margin-bottom: 0;\n",
       "  padding: 0.5em;\n",
       "  box-sizing: border-box;\n",
       "  text-align: center;\n",
       "}\n",
       "\n",
       "#sk-container-id-2 label.sk-toggleable__label-arrow:before {\n",
       "  /* Arrow on the left of the label */\n",
       "  content: \"▸\";\n",
       "  float: left;\n",
       "  margin-right: 0.25em;\n",
       "  color: var(--sklearn-color-icon);\n",
       "}\n",
       "\n",
       "#sk-container-id-2 label.sk-toggleable__label-arrow:hover:before {\n",
       "  color: var(--sklearn-color-text);\n",
       "}\n",
       "\n",
       "/* Toggleable content - dropdown */\n",
       "\n",
       "#sk-container-id-2 div.sk-toggleable__content {\n",
       "  max-height: 0;\n",
       "  max-width: 0;\n",
       "  overflow: hidden;\n",
       "  text-align: left;\n",
       "  /* unfitted */\n",
       "  background-color: var(--sklearn-color-unfitted-level-0);\n",
       "}\n",
       "\n",
       "#sk-container-id-2 div.sk-toggleable__content.fitted {\n",
       "  /* fitted */\n",
       "  background-color: var(--sklearn-color-fitted-level-0);\n",
       "}\n",
       "\n",
       "#sk-container-id-2 div.sk-toggleable__content pre {\n",
       "  margin: 0.2em;\n",
       "  border-radius: 0.25em;\n",
       "  color: var(--sklearn-color-text);\n",
       "  /* unfitted */\n",
       "  background-color: var(--sklearn-color-unfitted-level-0);\n",
       "}\n",
       "\n",
       "#sk-container-id-2 div.sk-toggleable__content.fitted pre {\n",
       "  /* unfitted */\n",
       "  background-color: var(--sklearn-color-fitted-level-0);\n",
       "}\n",
       "\n",
       "#sk-container-id-2 input.sk-toggleable__control:checked~div.sk-toggleable__content {\n",
       "  /* Expand drop-down */\n",
       "  max-height: 200px;\n",
       "  max-width: 100%;\n",
       "  overflow: auto;\n",
       "}\n",
       "\n",
       "#sk-container-id-2 input.sk-toggleable__control:checked~label.sk-toggleable__label-arrow:before {\n",
       "  content: \"▾\";\n",
       "}\n",
       "\n",
       "/* Pipeline/ColumnTransformer-specific style */\n",
       "\n",
       "#sk-container-id-2 div.sk-label input.sk-toggleable__control:checked~label.sk-toggleable__label {\n",
       "  color: var(--sklearn-color-text);\n",
       "  background-color: var(--sklearn-color-unfitted-level-2);\n",
       "}\n",
       "\n",
       "#sk-container-id-2 div.sk-label.fitted input.sk-toggleable__control:checked~label.sk-toggleable__label {\n",
       "  background-color: var(--sklearn-color-fitted-level-2);\n",
       "}\n",
       "\n",
       "/* Estimator-specific style */\n",
       "\n",
       "/* Colorize estimator box */\n",
       "#sk-container-id-2 div.sk-estimator input.sk-toggleable__control:checked~label.sk-toggleable__label {\n",
       "  /* unfitted */\n",
       "  background-color: var(--sklearn-color-unfitted-level-2);\n",
       "}\n",
       "\n",
       "#sk-container-id-2 div.sk-estimator.fitted input.sk-toggleable__control:checked~label.sk-toggleable__label {\n",
       "  /* fitted */\n",
       "  background-color: var(--sklearn-color-fitted-level-2);\n",
       "}\n",
       "\n",
       "#sk-container-id-2 div.sk-label label.sk-toggleable__label,\n",
       "#sk-container-id-2 div.sk-label label {\n",
       "  /* The background is the default theme color */\n",
       "  color: var(--sklearn-color-text-on-default-background);\n",
       "}\n",
       "\n",
       "/* On hover, darken the color of the background */\n",
       "#sk-container-id-2 div.sk-label:hover label.sk-toggleable__label {\n",
       "  color: var(--sklearn-color-text);\n",
       "  background-color: var(--sklearn-color-unfitted-level-2);\n",
       "}\n",
       "\n",
       "/* Label box, darken color on hover, fitted */\n",
       "#sk-container-id-2 div.sk-label.fitted:hover label.sk-toggleable__label.fitted {\n",
       "  color: var(--sklearn-color-text);\n",
       "  background-color: var(--sklearn-color-fitted-level-2);\n",
       "}\n",
       "\n",
       "/* Estimator label */\n",
       "\n",
       "#sk-container-id-2 div.sk-label label {\n",
       "  font-family: monospace;\n",
       "  font-weight: bold;\n",
       "  display: inline-block;\n",
       "  line-height: 1.2em;\n",
       "}\n",
       "\n",
       "#sk-container-id-2 div.sk-label-container {\n",
       "  text-align: center;\n",
       "}\n",
       "\n",
       "/* Estimator-specific */\n",
       "#sk-container-id-2 div.sk-estimator {\n",
       "  font-family: monospace;\n",
       "  border: 1px dotted var(--sklearn-color-border-box);\n",
       "  border-radius: 0.25em;\n",
       "  box-sizing: border-box;\n",
       "  margin-bottom: 0.5em;\n",
       "  /* unfitted */\n",
       "  background-color: var(--sklearn-color-unfitted-level-0);\n",
       "}\n",
       "\n",
       "#sk-container-id-2 div.sk-estimator.fitted {\n",
       "  /* fitted */\n",
       "  background-color: var(--sklearn-color-fitted-level-0);\n",
       "}\n",
       "\n",
       "/* on hover */\n",
       "#sk-container-id-2 div.sk-estimator:hover {\n",
       "  /* unfitted */\n",
       "  background-color: var(--sklearn-color-unfitted-level-2);\n",
       "}\n",
       "\n",
       "#sk-container-id-2 div.sk-estimator.fitted:hover {\n",
       "  /* fitted */\n",
       "  background-color: var(--sklearn-color-fitted-level-2);\n",
       "}\n",
       "\n",
       "/* Specification for estimator info (e.g. \"i\" and \"?\") */\n",
       "\n",
       "/* Common style for \"i\" and \"?\" */\n",
       "\n",
       ".sk-estimator-doc-link,\n",
       "a:link.sk-estimator-doc-link,\n",
       "a:visited.sk-estimator-doc-link {\n",
       "  float: right;\n",
       "  font-size: smaller;\n",
       "  line-height: 1em;\n",
       "  font-family: monospace;\n",
       "  background-color: var(--sklearn-color-background);\n",
       "  border-radius: 1em;\n",
       "  height: 1em;\n",
       "  width: 1em;\n",
       "  text-decoration: none !important;\n",
       "  margin-left: 1ex;\n",
       "  /* unfitted */\n",
       "  border: var(--sklearn-color-unfitted-level-1) 1pt solid;\n",
       "  color: var(--sklearn-color-unfitted-level-1);\n",
       "}\n",
       "\n",
       ".sk-estimator-doc-link.fitted,\n",
       "a:link.sk-estimator-doc-link.fitted,\n",
       "a:visited.sk-estimator-doc-link.fitted {\n",
       "  /* fitted */\n",
       "  border: var(--sklearn-color-fitted-level-1) 1pt solid;\n",
       "  color: var(--sklearn-color-fitted-level-1);\n",
       "}\n",
       "\n",
       "/* On hover */\n",
       "div.sk-estimator:hover .sk-estimator-doc-link:hover,\n",
       ".sk-estimator-doc-link:hover,\n",
       "div.sk-label-container:hover .sk-estimator-doc-link:hover,\n",
       ".sk-estimator-doc-link:hover {\n",
       "  /* unfitted */\n",
       "  background-color: var(--sklearn-color-unfitted-level-3);\n",
       "  color: var(--sklearn-color-background);\n",
       "  text-decoration: none;\n",
       "}\n",
       "\n",
       "div.sk-estimator.fitted:hover .sk-estimator-doc-link.fitted:hover,\n",
       ".sk-estimator-doc-link.fitted:hover,\n",
       "div.sk-label-container:hover .sk-estimator-doc-link.fitted:hover,\n",
       ".sk-estimator-doc-link.fitted:hover {\n",
       "  /* fitted */\n",
       "  background-color: var(--sklearn-color-fitted-level-3);\n",
       "  color: var(--sklearn-color-background);\n",
       "  text-decoration: none;\n",
       "}\n",
       "\n",
       "/* Span, style for the box shown on hovering the info icon */\n",
       ".sk-estimator-doc-link span {\n",
       "  display: none;\n",
       "  z-index: 9999;\n",
       "  position: relative;\n",
       "  font-weight: normal;\n",
       "  right: .2ex;\n",
       "  padding: .5ex;\n",
       "  margin: .5ex;\n",
       "  width: min-content;\n",
       "  min-width: 20ex;\n",
       "  max-width: 50ex;\n",
       "  color: var(--sklearn-color-text);\n",
       "  box-shadow: 2pt 2pt 4pt #999;\n",
       "  /* unfitted */\n",
       "  background: var(--sklearn-color-unfitted-level-0);\n",
       "  border: .5pt solid var(--sklearn-color-unfitted-level-3);\n",
       "}\n",
       "\n",
       ".sk-estimator-doc-link.fitted span {\n",
       "  /* fitted */\n",
       "  background: var(--sklearn-color-fitted-level-0);\n",
       "  border: var(--sklearn-color-fitted-level-3);\n",
       "}\n",
       "\n",
       ".sk-estimator-doc-link:hover span {\n",
       "  display: block;\n",
       "}\n",
       "\n",
       "/* \"?\"-specific style due to the `<a>` HTML tag */\n",
       "\n",
       "#sk-container-id-2 a.estimator_doc_link {\n",
       "  float: right;\n",
       "  font-size: 1rem;\n",
       "  line-height: 1em;\n",
       "  font-family: monospace;\n",
       "  background-color: var(--sklearn-color-background);\n",
       "  border-radius: 1rem;\n",
       "  height: 1rem;\n",
       "  width: 1rem;\n",
       "  text-decoration: none;\n",
       "  /* unfitted */\n",
       "  color: var(--sklearn-color-unfitted-level-1);\n",
       "  border: var(--sklearn-color-unfitted-level-1) 1pt solid;\n",
       "}\n",
       "\n",
       "#sk-container-id-2 a.estimator_doc_link.fitted {\n",
       "  /* fitted */\n",
       "  border: var(--sklearn-color-fitted-level-1) 1pt solid;\n",
       "  color: var(--sklearn-color-fitted-level-1);\n",
       "}\n",
       "\n",
       "/* On hover */\n",
       "#sk-container-id-2 a.estimator_doc_link:hover {\n",
       "  /* unfitted */\n",
       "  background-color: var(--sklearn-color-unfitted-level-3);\n",
       "  color: var(--sklearn-color-background);\n",
       "  text-decoration: none;\n",
       "}\n",
       "\n",
       "#sk-container-id-2 a.estimator_doc_link.fitted:hover {\n",
       "  /* fitted */\n",
       "  background-color: var(--sklearn-color-fitted-level-3);\n",
       "}\n",
       "</style><div id=\"sk-container-id-2\" class=\"sk-top-container\"><div class=\"sk-text-repr-fallback\"><pre>KNeighborsClassifier(n_neighbors=1)</pre><b>In a Jupyter environment, please rerun this cell to show the HTML representation or trust the notebook. <br />On GitHub, the HTML representation is unable to render, please try loading this page with nbviewer.org.</b></div><div class=\"sk-container\" hidden><div class=\"sk-item\"><div class=\"sk-estimator fitted sk-toggleable\"><input class=\"sk-toggleable__control sk-hidden--visually\" id=\"sk-estimator-id-2\" type=\"checkbox\" checked><label for=\"sk-estimator-id-2\" class=\"sk-toggleable__label fitted sk-toggleable__label-arrow fitted\">&nbsp;&nbsp;KNeighborsClassifier<a class=\"sk-estimator-doc-link fitted\" rel=\"noreferrer\" target=\"_blank\" href=\"https://scikit-learn.org/1.5/modules/generated/sklearn.neighbors.KNeighborsClassifier.html\">?<span>Documentation for KNeighborsClassifier</span></a><span class=\"sk-estimator-doc-link fitted\">i<span>Fitted</span></span></label><div class=\"sk-toggleable__content fitted\"><pre>KNeighborsClassifier(n_neighbors=1)</pre></div> </div></div></div></div>"
      ],
      "text/plain": [
       "KNeighborsClassifier(n_neighbors=1)"
      ]
     },
     "execution_count": 91,
     "metadata": {},
     "output_type": "execute_result"
    }
   ],
   "source": [
    "# Use .fit() to fit the the model on the training set\n",
    "knn_1.fit(X_train, y_train)"
   ]
  },
  {
   "cell_type": "markdown",
   "id": "2526c689-a5a7-405e-b524-d15a37237ed7",
   "metadata": {},
   "source": [
    "## Predict on the test set and evaluate the accuracy"
   ]
  },
  {
   "cell_type": "markdown",
   "id": "717e4a0a-3183-4293-a01d-f7a2bd93cc04",
   "metadata": {},
   "source": [
    "Now comes the critical step -- deploying our trained model to make predictions on the test set, or **unseen data**. This step allows us to evaluate how well our model generalizes beyond the training set, which, as we know, the model *memorized*."
   ]
  },
  {
   "cell_type": "code",
   "execution_count": 92,
   "id": "b79cc8a1-0e9c-4af3-9e94-613189d20f1b",
   "metadata": {},
   "outputs": [],
   "source": [
    "# Predict on the test set, or X_test using the .predict() method\n",
    "y_pred = knn_1.predict(X_test)"
   ]
  },
  {
   "cell_type": "code",
   "execution_count": 93,
   "id": "dec411d7-fedc-4f39-a69f-034efa6f94ad",
   "metadata": {},
   "outputs": [
    {
     "data": {
      "text/plain": [
       "array([0, 1, 1, 0, 1, 1, 0, 2, 1, 1, 0, 1, 0, 2, 2, 1, 0, 0, 1, 0, 1, 0,\n",
       "       1, 1, 0, 1, 1, 1, 2, 2, 0, 0, 2, 0, 0, 0])"
      ]
     },
     "execution_count": 93,
     "metadata": {},
     "output_type": "execute_result"
    }
   ],
   "source": [
    "# Display the predictions\n",
    "y_pred"
   ]
  },
  {
   "cell_type": "markdown",
   "id": "943539b0-6ca8-4d92-84eb-0194fe90c61c",
   "metadata": {},
   "source": [
    "As would be expected, the above *predictions* all correspond to our three class labels: 0, 1 and 2. Next, we'll use the `.score()` method from scikit-learn to compare the model's predictions with the *actual* labels in the test set."
   ]
  },
  {
   "cell_type": "code",
   "execution_count": 94,
   "id": "c793e9e7-02fd-490a-a3df-b76bf62b512c",
   "metadata": {},
   "outputs": [
    {
     "name": "stdout",
     "output_type": "stream",
     "text": [
      "Test set score: 0.78\n"
     ]
    }
   ],
   "source": [
    "# Now to check the accuracy with .score()\n",
    "print('Test set score: {:.2f}'.format(knn_1.score(X_test, y_test)))"
   ]
  },
  {
   "cell_type": "markdown",
   "id": "4045680c-2b7f-49b7-9744-3c2500815fd6",
   "metadata": {},
   "source": [
    "78%!\n",
    "\n",
    "Not bad, but also not great. \n",
    "\n",
    "As we laid out before, the idea is to see if we can do better, to find the optimal number of neighbiors. 2, 3, 4, 5? Instead of re-running this pipeline four more times, **let's scale our efforts by writing a `for` loop**."
   ]
  },
  {
   "cell_type": "code",
   "execution_count": 99,
   "id": "3e313c12-c0de-4fb8-a18c-22a46eda7569",
   "metadata": {},
   "outputs": [
    {
     "name": "stdout",
     "output_type": "stream",
     "text": [
      "k=1, test accuracy = 0.78\n",
      "k=2, test accuracy = 0.75\n",
      "k=3, test accuracy = 0.78\n",
      "k=4, test accuracy = 0.75\n",
      "k=5, test accuracy = 0.81\n"
     ]
    }
   ],
   "source": [
    "# Begin by defining the range, or the number of neighbors\n",
    "for k in range(1,6):\n",
    "    knn = KNeighborsClassifier(n_neighbors=k) # Set the classifier type using kNN\n",
    "    knn.fit(X_train, y_train) # Fit the model on the training sets\n",
    "    score = knn.score(X_test, y_test) # Use .score() to evaluate the model's accuracy on the test set\n",
    "    print(f'k={k}, test accuracy = {score:.2f}') # Print the test accuracy, or score, for each model"
   ]
  },
  {
   "cell_type": "markdown",
   "id": "f2fc2e1f-3eb6-49bc-9b67-f532e6f949ce",
   "metadata": {},
   "source": [
    "**Initial takeway**: Our kNN model with `n_neighbors=5` achieved the highest accuracy (**81%**) on the test set. The above results demonstrate that increasing n_neighbors can reduce overfitting and help the models more effectively generalize to unseen data."
   ]
  },
  {
   "cell_type": "markdown",
   "id": "c18864a0-cd2b-4a38-84e1-2a1443359530",
   "metadata": {},
   "source": [
    "## One more visualization"
   ]
  },
  {
   "cell_type": "markdown",
   "id": "22b2e0e7-3e3a-4274-9fa2-5c7ddf4a6d5c",
   "metadata": {},
   "source": [
    "Just for fun, let's loop through all the samples and find the most accurate number of neighbors of all. Then, once we've run our supercharged `for` loop, we'll bring it to life with one final visualization.\n",
    "\n",
    "We know there are **178** obsevations in our dataset, but our training set consists of just 80% of that or 142 observations. So, we'll set out `for` loop accordingly because the largest valid value for `k` is the length of the training set. If we went beyond that, the model would try to include *more* neighbors than exist in the training set, which would be a problem."
   ]
  },
  {
   "cell_type": "code",
   "execution_count": 103,
   "id": "4501adeb-f5f1-4250-904c-fa766b55b79c",
   "metadata": {},
   "outputs": [
    {
     "name": "stdout",
     "output_type": "stream",
     "text": [
      "k=1, test accuracy = 0.78\n",
      "k=2, test accuracy = 0.75\n",
      "k=3, test accuracy = 0.78\n",
      "k=4, test accuracy = 0.75\n",
      "k=5, test accuracy = 0.81\n",
      "k=6, test accuracy = 0.75\n",
      "k=7, test accuracy = 0.78\n",
      "k=8, test accuracy = 0.69\n",
      "k=9, test accuracy = 0.75\n",
      "k=10, test accuracy = 0.72\n",
      "k=11, test accuracy = 0.72\n",
      "k=12, test accuracy = 0.69\n",
      "k=13, test accuracy = 0.75\n",
      "k=14, test accuracy = 0.72\n",
      "k=15, test accuracy = 0.72\n",
      "k=16, test accuracy = 0.75\n",
      "k=17, test accuracy = 0.78\n",
      "k=18, test accuracy = 0.75\n",
      "k=19, test accuracy = 0.78\n",
      "k=20, test accuracy = 0.78\n",
      "k=21, test accuracy = 0.75\n",
      "k=22, test accuracy = 0.75\n",
      "k=23, test accuracy = 0.75\n",
      "k=24, test accuracy = 0.75\n",
      "k=25, test accuracy = 0.75\n",
      "k=26, test accuracy = 0.75\n",
      "k=27, test accuracy = 0.75\n",
      "k=28, test accuracy = 0.75\n",
      "k=29, test accuracy = 0.75\n",
      "k=30, test accuracy = 0.75\n",
      "k=31, test accuracy = 0.75\n",
      "k=32, test accuracy = 0.75\n",
      "k=33, test accuracy = 0.75\n",
      "k=34, test accuracy = 0.75\n",
      "k=35, test accuracy = 0.75\n",
      "k=36, test accuracy = 0.75\n",
      "k=37, test accuracy = 0.75\n",
      "k=38, test accuracy = 0.75\n",
      "k=39, test accuracy = 0.75\n",
      "k=40, test accuracy = 0.75\n",
      "k=41, test accuracy = 0.75\n",
      "k=42, test accuracy = 0.75\n",
      "k=43, test accuracy = 0.75\n",
      "k=44, test accuracy = 0.75\n",
      "k=45, test accuracy = 0.75\n",
      "k=46, test accuracy = 0.75\n",
      "k=47, test accuracy = 0.75\n",
      "k=48, test accuracy = 0.75\n",
      "k=49, test accuracy = 0.75\n",
      "k=50, test accuracy = 0.75\n",
      "k=51, test accuracy = 0.75\n",
      "k=52, test accuracy = 0.75\n",
      "k=53, test accuracy = 0.75\n",
      "k=54, test accuracy = 0.75\n",
      "k=55, test accuracy = 0.75\n",
      "k=56, test accuracy = 0.75\n",
      "k=57, test accuracy = 0.75\n",
      "k=58, test accuracy = 0.75\n",
      "k=59, test accuracy = 0.75\n",
      "k=60, test accuracy = 0.75\n",
      "k=61, test accuracy = 0.75\n",
      "k=62, test accuracy = 0.75\n",
      "k=63, test accuracy = 0.75\n",
      "k=64, test accuracy = 0.75\n",
      "k=65, test accuracy = 0.75\n",
      "k=66, test accuracy = 0.75\n",
      "k=67, test accuracy = 0.75\n",
      "k=68, test accuracy = 0.75\n",
      "k=69, test accuracy = 0.75\n",
      "k=70, test accuracy = 0.75\n",
      "k=71, test accuracy = 0.75\n",
      "k=72, test accuracy = 0.75\n",
      "k=73, test accuracy = 0.75\n",
      "k=74, test accuracy = 0.75\n",
      "k=75, test accuracy = 0.78\n",
      "k=76, test accuracy = 0.78\n",
      "k=77, test accuracy = 0.78\n",
      "k=78, test accuracy = 0.78\n",
      "k=79, test accuracy = 0.78\n",
      "k=80, test accuracy = 0.78\n",
      "k=81, test accuracy = 0.78\n",
      "k=82, test accuracy = 0.75\n",
      "k=83, test accuracy = 0.78\n",
      "k=84, test accuracy = 0.75\n",
      "k=85, test accuracy = 0.78\n",
      "k=86, test accuracy = 0.78\n",
      "k=87, test accuracy = 0.75\n",
      "k=88, test accuracy = 0.75\n",
      "k=89, test accuracy = 0.75\n",
      "k=90, test accuracy = 0.75\n",
      "k=91, test accuracy = 0.75\n",
      "k=92, test accuracy = 0.75\n",
      "k=93, test accuracy = 0.75\n",
      "k=94, test accuracy = 0.75\n",
      "k=95, test accuracy = 0.83\n",
      "k=96, test accuracy = 0.83\n",
      "k=97, test accuracy = 0.83\n",
      "k=98, test accuracy = 0.83\n",
      "k=99, test accuracy = 0.83\n",
      "k=100, test accuracy = 0.83\n",
      "k=101, test accuracy = 0.83\n",
      "k=102, test accuracy = 0.83\n",
      "k=103, test accuracy = 0.83\n",
      "k=104, test accuracy = 0.83\n",
      "k=105, test accuracy = 0.83\n",
      "k=106, test accuracy = 0.83\n",
      "k=107, test accuracy = 0.81\n",
      "k=108, test accuracy = 0.81\n",
      "k=109, test accuracy = 0.81\n",
      "k=110, test accuracy = 0.81\n",
      "k=111, test accuracy = 0.81\n",
      "k=112, test accuracy = 0.78\n",
      "k=113, test accuracy = 0.78\n",
      "k=114, test accuracy = 0.78\n",
      "k=115, test accuracy = 0.78\n",
      "k=116, test accuracy = 0.78\n",
      "k=117, test accuracy = 0.78\n",
      "k=118, test accuracy = 0.78\n",
      "k=119, test accuracy = 0.78\n",
      "k=120, test accuracy = 0.78\n",
      "k=121, test accuracy = 0.78\n",
      "k=122, test accuracy = 0.78\n",
      "k=123, test accuracy = 0.78\n",
      "k=124, test accuracy = 0.78\n",
      "k=125, test accuracy = 0.78\n",
      "k=126, test accuracy = 0.78\n",
      "k=127, test accuracy = 0.78\n",
      "k=128, test accuracy = 0.78\n",
      "k=129, test accuracy = 0.78\n",
      "k=130, test accuracy = 0.78\n",
      "k=131, test accuracy = 0.78\n",
      "k=132, test accuracy = 0.78\n",
      "k=133, test accuracy = 0.44\n",
      "k=134, test accuracy = 0.44\n",
      "k=135, test accuracy = 0.44\n",
      "k=136, test accuracy = 0.44\n",
      "k=137, test accuracy = 0.44\n",
      "k=138, test accuracy = 0.44\n",
      "k=139, test accuracy = 0.44\n",
      "k=140, test accuracy = 0.44\n",
      "k=141, test accuracy = 0.44\n",
      "k=142, test accuracy = 0.44\n"
     ]
    }
   ],
   "source": [
    "# Build the supercharged for loop\n",
    "# Begin by defining the range, or the number of neighbors\n",
    "for k in range(1,143):\n",
    "    knn = KNeighborsClassifier(n_neighbors=k) # Set the classifier type using kNN\n",
    "    knn.fit(X_train, y_train) # Fit the model on the training sets\n",
    "    score = knn.score(X_test, y_test) # Use .score() to evaluate the model's accuracy on the test set\n",
    "    print(f'k={k}, test accuracy = {score:.2f}') # Print the test accuracy, or score, for each model"
   ]
  },
  {
   "cell_type": "markdown",
   "id": "5e3d1a6f-fcf6-4d93-b3a6-282b1f950f2d",
   "metadata": {},
   "source": [
    "A quick scroll through the above output reveals that the highest accuracy (**83%**) was achieved when 'k' was set between 95 and 104 -- a surprisingly large number of neighbors. The result highlights a key insight: in this **three-class classification problem**, using a bigger neighborhood helped smooth out local noise and improve generalization -- without overwhelming the model with bias from the majority class. \n",
    "\n",
    "Now, let's bring it all together with our plot."
   ]
  },
  {
   "cell_type": "code",
   "execution_count": 153,
   "id": "cc0be764-3f70-4301-8690-ab9eedea1128",
   "metadata": {},
   "outputs": [
    {
     "data": {
      "image/png": "[encoded data removed]",
      "text/plain": [
       "<Figure size 1400x600 with 1 Axes>"
      ]
     },
     "metadata": {},
     "output_type": "display_data"
    }
   ],
   "source": [
    "# Initialize lists to store values\n",
    "k_values = []\n",
    "accuracy_scores = []\n",
    "\n",
    "# Loop through our supercharged for loop and store the test accuracy\n",
    "for k in range(1, 143):\n",
    "    knn = KNeighborsClassifier(n_neighbors=k) # Intialize kNN model with k neighbors\n",
    "    knn.fit(X_train, y_train) # Fit the model to the training data\n",
    "    score = knn.score(X_test, y_test) # Evaluate test accuracy\n",
    "    k_values.append(k) # Save current k\n",
    "    accuracy_scores.append(score) # Save the corresponding test accuracy\n",
    "\n",
    "\n",
    "# Create the plot\n",
    "plt.figure(figsize=(14, 6)) # Set the plot size\n",
    "plt.plot(k_values, accuracy_scores, color='black', label='Test Accuracy', linewidth=2) # Lien plot showing accuracy\n",
    "plt.scatter(k_values, accuracy_scores, color='dodgerblue', s=25) # Add dots to highligth individual k-values\n",
    "plt.title('KNN Test Accuracy vs. Number of Neighbors (k)') # Set the title\n",
    "plt.xlabel('k (Number of Neighbors)') # Set the x-label\n",
    "plt.ylabel('Test Accuracy') # Set the y-label\n",
    "plt.xticks(range(0, 143, 5)) # Set x-ticks every 5 units\n",
    "plt.grid(True) # Add gridlines\n",
    "plt.legend() # Show the legend\n",
    "plt.tight_layout() # Prevent overlapping elements\n",
    "\n",
    "# Display the plot\n",
    "plt.show()"
   ]
  },
  {
   "cell_type": "markdown",
   "id": "2c3276f1-4902-4816-ad12-7ed55d39b449",
   "metadata": {},
   "source": [
    "While our chart doesn't reveal a dramatic tipping point, it does show how accuracy ebbs and flows -- and ultimately peaks -- before absolutely falling off a cliff. **In short**: tuning isn't optional. It can make -- or break -- your model."
   ]
  }
 ],
 "metadata": {
  "kernelspec": {
   "display_name": "Python 3 (ipykernel)",
   "language": "python",
   "name": "python3"
  },
  "language_info": {
   "codemirror_mode": {
    "name": "ipython",
    "version": 3
   },
   "file_extension": ".py",
   "mimetype": "text/x-python",
   "name": "python",
   "nbconvert_exporter": "python",
   "pygments_lexer": "ipython3",
   "version": "3.12.7"
  }
 },
 "nbformat": 4,
 "nbformat_minor": 5
}
